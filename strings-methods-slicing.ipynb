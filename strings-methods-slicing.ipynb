{
 "cells": [
  {
   "cell_type": "markdown",
   "metadata": {},
   "source": [
    "# Assignment 4"
   ]
  },
  {
   "cell_type": "markdown",
   "metadata": {},
   "source": [
    "1. Given two strings, s1 and s2, write a program to return a new string made of s1 and s2’s first, middle, and last characters all in capital letters."
   ]
  },
  {
   "cell_type": "code",
   "execution_count": 18,
   "metadata": {},
   "outputs": [
    {
     "name": "stdout",
     "output_type": "stream",
     "text": [
      "HLOWRD\n"
     ]
    }
   ],
   "source": [
    "s1=\"hello\"\n",
    "s2=\"world\"\n",
    "s=s1[0].upper()+s1[round(len(s1)/2)].upper()+s1[len(s1)-1].upper()+s2[0].upper()+s2[round(len(s2)/2)].upper()+s2[len(s2)-1].upper()\n",
    "print(s)\n"
   ]
  },
  {
   "cell_type": "markdown",
   "metadata": {},
   "source": [
    "2. Calculate the sum and the averages of the numbers in the following string while ignoring all other characters:\n",
    "\n",
    "    ```aa4a649##aq#2```"
   ]
  },
  {
   "cell_type": "code",
   "execution_count": 21,
   "metadata": {},
   "outputs": [
    {
     "name": "stdout",
     "output_type": "stream",
     "text": [
      "[4, 649, 2]\n",
      "sum is  655  avegrage is  218.33333333333334\n"
     ]
    }
   ],
   "source": [
    "import re\n",
    "s1= \"aa4a649##aq#2\"\n",
    "s2=re.findall(r'\\d+',s1)\n",
    "s3=[]\n",
    "for i in range(len(s2)):\n",
    "    s3.append(int(s2[i]))\n",
    "print(s3)\n",
    "\n",
    "sumnumber=sum(s3)\n",
    "avg=sum(s3)/len(s3)\n",
    "print(\"sum is \",sumnumber,\" avegrage is \",avg)\n"
   ]
  },
  {
   "cell_type": "markdown",
   "metadata": {},
   "source": [
    "3. Extract the last name Culberson from the following legislative action:\n",
    "\n",
    "    ```WORDS TAKEN DOWN - During the course of debate, exception was taken to certain words used and a demand was made to have words taken down. Mr. Culberson asked unanimous consent to withdraw the words. Without objection the words were withdrawn. The House resumed debate on S. 22 .```\n",
    "\n",
    "    **Hint:** use the method [split](https://www.w3schools.com/python/ref_string_split.asp)"
   ]
  },
  {
   "cell_type": "code",
   "execution_count": 59,
   "metadata": {},
   "outputs": [
    {
     "name": "stdout",
     "output_type": "stream",
     "text": [
      "Culberson\n"
     ]
    }
   ],
   "source": [
    "s1=\"WORDS TAKEN DOWN - During the course of debate, exception was taken to certain words used and a demand was made to have words taken down. Mr. Culberson asked unanimous consent to withdraw the words. Without objection the words were withdrawn. The House resumed debate on S. 22 .\"\n",
    "s2=s1.split()\n",
    "num=s2.index(\"Mr.\")\n",
    "print(s2[num+1])"
   ]
  },
  {
   "cell_type": "markdown",
   "metadata": {},
   "source": [
    "4. Extract the two integers from the following sentence and transform them intro ```int``` type\n",
    "\n",
    "    ```Passed Senate with amendments by Yea-Nay Vote. 73 - 21. Record Vote Number: 3 . (text: CR S430-557 )```"
   ]
  },
  {
   "cell_type": "code",
   "execution_count": 17,
   "metadata": {},
   "outputs": [
    {
     "name": "stdout",
     "output_type": "stream",
     "text": [
      "['73', '21', '3', '430', '557']\n",
      "[73, 21]\n"
     ]
    }
   ],
   "source": [
    "import re\n",
    "s1= \"Passed Senate with amendments by Yea-Nay Vote. 73 - 21. Record Vote Number: 3 . (text: CR S430-557 )\"\n",
    "s2=re.findall(r'\\d+',s1)\n",
    "print(s2)\n",
    "s3=[]\n",
    "for nu in range(2):\n",
    "    s3.append(int(s2[nu]))\n",
    "print(s3)"
   ]
  },
  {
   "cell_type": "code",
   "execution_count": null,
   "metadata": {},
   "outputs": [],
   "source": []
  }
 ],
 "metadata": {
  "kernelspec": {
   "display_name": "conda_amazonei_mxnet_p36",
   "language": "python",
   "name": "conda_amazonei_mxnet_p36"
  },
  "language_info": {
   "codemirror_mode": {
    "name": "ipython",
    "version": 3
   },
   "file_extension": ".py",
   "mimetype": "text/x-python",
   "name": "python",
   "nbconvert_exporter": "python",
   "pygments_lexer": "ipython3",
   "version": "3.6.13"
  },
  "vscode": {
   "interpreter": {
    "hash": "11838f79d2aaadbfa3a2adfaf35bacdebdb4e8d9b63957ddf298964812544a76"
   }
  }
 },
 "nbformat": 4,
 "nbformat_minor": 4
}
